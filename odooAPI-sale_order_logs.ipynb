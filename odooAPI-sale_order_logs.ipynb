{
 "cells": [
  {
   "cell_type": "code",
   "execution_count": 1,
   "metadata": {},
   "outputs": [
    {
     "data": {
      "text/plain": [
       "141"
      ]
     },
     "execution_count": 1,
     "metadata": {},
     "output_type": "execute_result"
    }
   ],
   "source": [
    "import xmlrpc.client\n",
    "import pandas as pd\n",
    "from sqlalchemy import create_engine\n",
    "import os\n",
    "from dotenv import load_dotenv\n",
    "import requests\n",
    "\n",
    "load_dotenv()\n",
    "\n",
    "dbUrl = os.environ[\"ODOO_URL\"]\n",
    "dbName = os.environ[\"ODOO_NAME\"]\n",
    "dbUsername = os.environ[\"ODOO_USERNAME\"]\n",
    "dbPassword = os.environ[\"ODOO_PASSWORD\"]\n",
    "erAppId = os.environ[\"APP_ID\"]\n",
    "\n",
    "common = xmlrpc.client.ServerProxy('{}/xmlrpc/2/common'.format(dbUrl))\n",
    "uid = common.authenticate(dbName, dbUsername, dbPassword, {})\n",
    "models = xmlrpc.client.ServerProxy('{}/xmlrpc/2/object'.format(dbUrl))\n",
    "\n",
    "# Data Handling Functions\n",
    "def id_field_into_1value(jsonFile):\n",
    "    for index, line in enumerate(jsonFile):\n",
    "        for item in line:\n",
    "            if type(line[item]) == list:\n",
    "                jsonFile[index][item] = jsonFile[index][item][1]\n",
    "\n",
    "df = models.execute_kw(\n",
    "    dbName,\n",
    "    uid,\n",
    "    dbPassword,\n",
    "    'sale.order.log',\n",
    "    'search_read',\n",
    "    [],\n",
    "    {'fields': [] })\n",
    "\n",
    "id_field_into_1value(df)\n",
    "\n",
    "df = pd.DataFrame(df)\n",
    "\n",
    "# Create a dictionary for currency conversion\n",
    "currency_mapping = {\n",
    "    \"ARS\": \"ARS\",\n",
    "    \"CLP\": \"CLP\",\n",
    "    \"PEN\": \"PEN\",\n",
    "    \"COP\": \"COP\",\n",
    "    \"MXN\": \"MXN\",\n",
    "    \"USD\": \"USD\",\n",
    "    \"BRL\": \"BRL\",\n",
    "    \"EUR\": \"EUR\",\n",
    "}\n",
    "\n",
    "# Send a GET request to the API\n",
    "url = f'https://openexchangerates.org/api/latest.json?app_id={erAppId}'\n",
    "headers = {\"accept\": \"application/json\"}\n",
    "\n",
    "# manage api response\n",
    "response = requests.get(url, headers=headers)\n",
    "data = response.json()\n",
    "\n",
    "# Extract exchange rates from the data\n",
    "rates = data['rates']\n",
    "\n",
    "# map only the used currencies exchnage rates based on USD\n",
    "usd_er = {currency_mapping[key]: rates[key] for key in currency_mapping.keys()}\n",
    "\n",
    "# Extract the currency from the 'pricelist_id' column\n",
    "# df['currency_id'] = df['currency_id'].str.extract(r'\\((.*?)\\)', expand=False)\n",
    "\n",
    "# Map the full currency names to their three-letter ISO codes\n",
    "df['currency_id'] = df['currency_id'].map(currency_mapping)\n",
    "\n",
    "# Map the exchange rates to a new column based on 'pricelist_id'\n",
    "df['exchange_rate'] = df['currency_id'].map(usd_er)\n",
    "\n",
    "# Divide 'recurring_monthly' and 'amount_signed' by 'exchange_rate' to convert to USD\n",
    "df['recurring_monthly_usd'] = round(df['recurring_monthly'].astype(float) / df['exchange_rate'], 2)\n",
    "df['amount_signed_usd'] = round(df['amount_signed'].astype(float) / df['exchange_rate'], 2)\n",
    "\n",
    "\n",
    "DATABASE_CONNECTION_URI = os.environ[\"DB_URL\"]\n",
    "# create a connection to the database\n",
    "engine = create_engine(DATABASE_CONNECTION_URI)\n",
    "\n",
    "# insert the dataframe into the postgres table\n",
    "df.to_sql('od_sale_order_changes_log', con=engine, if_exists='replace', index=False)"
   ]
  }
 ],
 "metadata": {
  "kernelspec": {
   "display_name": "Python 3",
   "language": "python",
   "name": "python3"
  },
  "language_info": {
   "codemirror_mode": {
    "name": "ipython",
    "version": 3
   },
   "file_extension": ".py",
   "mimetype": "text/x-python",
   "name": "python",
   "nbconvert_exporter": "python",
   "pygments_lexer": "ipython3",
   "version": "3.11.5"
  }
 },
 "nbformat": 4,
 "nbformat_minor": 2
}
