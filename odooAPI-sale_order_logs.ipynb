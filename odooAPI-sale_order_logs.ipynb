{
 "cells": [
  {
   "cell_type": "code",
   "execution_count": 1,
   "metadata": {},
   "outputs": [
    {
     "data": {
      "text/plain": [
       "755"
      ]
     },
     "execution_count": 1,
     "metadata": {},
     "output_type": "execute_result"
    }
   ],
   "source": [
    "import xmlrpc.client\n",
    "import pandas as pd\n",
    "from sqlalchemy import create_engine\n",
    "import os\n",
    "from dotenv import load_dotenv\n",
    "\n",
    "load_dotenv()\n",
    "\n",
    "dbUrl = os.environ[\"ODOO_URL\"]\n",
    "dbName = os.environ[\"ODOO_NAME\"]\n",
    "dbUsername = os.environ[\"ODOO_USERNAME\"]\n",
    "dbPassword = os.environ[\"ODOO_PASSWORD\"]\n",
    "\n",
    "common = xmlrpc.client.ServerProxy('{}/xmlrpc/2/common'.format(dbUrl))\n",
    "uid = common.authenticate(dbName, dbUsername, dbPassword, {})\n",
    "models = xmlrpc.client.ServerProxy('{}/xmlrpc/2/object'.format(dbUrl))\n",
    "\n",
    "# Data Handling Functions\n",
    "def id_field_into_1value(jsonFile):\n",
    "    for index, line in enumerate(jsonFile):\n",
    "        for item in line:\n",
    "            if type(line[item]) == list:\n",
    "                jsonFile[index][item] = jsonFile[index][item][1]\n",
    "\n",
    "df = models.execute_kw(\n",
    "    dbName,\n",
    "    uid,\n",
    "    dbPassword,\n",
    "    'sale.order.log',\n",
    "    'search_read',\n",
    "    [],\n",
    "    {'fields': [] })\n",
    "\n",
    "id_field_into_1value(df)\n",
    "\n",
    "df = pd.DataFrame(df)\n",
    "\n",
    "DATABASE_CONNECTION_URI = os.environ[\"DB_URL\"]\n",
    "# create a connection to the database\n",
    "engine = create_engine(DATABASE_CONNECTION_URI)\n",
    "\n",
    "# insert the dataframe into the postgres table\n",
    "df.to_sql('odoo_log', con=engine, if_exists='replace', index=False)"
   ]
  }
 ],
 "metadata": {
  "kernelspec": {
   "display_name": "Python 3",
   "language": "python",
   "name": "python3"
  },
  "language_info": {
   "codemirror_mode": {
    "name": "ipython",
    "version": 3
   },
   "file_extension": ".py",
   "mimetype": "text/x-python",
   "name": "python",
   "nbconvert_exporter": "python",
   "pygments_lexer": "ipython3",
   "version": "3.11.5"
  }
 },
 "nbformat": 4,
 "nbformat_minor": 2
}
