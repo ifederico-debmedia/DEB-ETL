{
 "cells": [
  {
   "cell_type": "code",
   "execution_count": 9,
   "metadata": {},
   "outputs": [
    {
     "name": "stdout",
     "output_type": "stream",
     "text": [
      "The table usd_er has been successfully copied to the backup database.\n"
     ]
    }
   ],
   "source": [
    "import psycopg2\n",
    "from psycopg2.extensions import Column\n",
    "from dotenv import load_dotenv\n",
    "import os\n",
    "\n",
    "# Load environment variables from the .env file\n",
    "load_dotenv()\n",
    "\n",
    "# Get database URLs from environment variables\n",
    "source_db_url = os.getenv(\"DB_URL\")\n",
    "backup_db_url = os.getenv(\"NEW_DB_URL\")\n",
    "\n",
    "# Table name for the copy operation\n",
    "table_name = \"usd_er\"\n",
    "\n",
    "try:\n",
    "    # Connect to the source and backup databases\n",
    "    conn_source = psycopg2.connect(source_db_url)\n",
    "    conn_backup = psycopg2.connect(backup_db_url)\n",
    "\n",
    "    # Create cursors for both databases\n",
    "    cursor_source = conn_source.cursor()\n",
    "    cursor_backup = conn_backup.cursor()\n",
    "\n",
    "    # Fetch data from the source table (just the structure, not data)\n",
    "    cursor_source.execute(f\"SELECT * FROM {table_name} WHERE 1=0;\")\n",
    "    data_to_copy = cursor_source.fetchall()\n",
    "\n",
    "    # Drop the backup table if it exists\n",
    "    cursor_backup.execute(f\"DROP TABLE IF EXISTS {table_name};\")\n",
    "\n",
    "    # Create the backup table\n",
    "    create_table_query = f\"CREATE TABLE {table_name} (\"\n",
    "    create_table_query += \", \".join([f\"{col[0]} {('timestamp' if col[1] == 1114 else 'float8')}\" for col in cursor_source.description])\n",
    "    create_table_query += \");\"\n",
    "\n",
    "    cursor_backup.execute(create_table_query)\n",
    "\n",
    "    # Insert data into the backup table\n",
    "    for row in data_to_copy:\n",
    "        placeholders = ', '.join(['%s'] * len(row))\n",
    "        insert_query = f\"INSERT INTO {table_name} VALUES ({placeholders});\"\n",
    "        cursor_backup.execute(insert_query, row)\n",
    "\n",
    "    # Commit changes to the backup database\n",
    "    conn_backup.commit()\n",
    "\n",
    "    # Close the cursors and connections\n",
    "    cursor_source.close()\n",
    "    cursor_backup.close()\n",
    "    conn_source.close()\n",
    "    conn_backup.close()\n",
    "\n",
    "    print(f\"The table {table_name} has been successfully copied to the backup database.\")\n",
    "except Exception as e:\n",
    "    print(\"An error occurred:\", e)"
   ]
  },
  {
   "cell_type": "code",
   "execution_count": 12,
   "metadata": {},
   "outputs": [
    {
     "name": "stdout",
     "output_type": "stream",
     "text": [
      "[]\n"
     ]
    }
   ],
   "source": [
    "print(data_to_copy)\n"
   ]
  }
 ],
 "metadata": {
  "kernelspec": {
   "display_name": "Python 3",
   "language": "python",
   "name": "python3"
  },
  "language_info": {
   "codemirror_mode": {
    "name": "ipython",
    "version": 3
   },
   "file_extension": ".py",
   "mimetype": "text/x-python",
   "name": "python",
   "nbconvert_exporter": "python",
   "pygments_lexer": "ipython3",
   "version": "3.11.5"
  }
 },
 "nbformat": 4,
 "nbformat_minor": 2
}
