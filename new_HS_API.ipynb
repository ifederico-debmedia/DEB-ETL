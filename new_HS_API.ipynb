{
 "cells": [
  {
   "cell_type": "code",
   "execution_count": 9,
   "metadata": {},
   "outputs": [
    {
     "name": "stdout",
     "output_type": "stream",
     "text": [
      "{'amount': '25.000',\n",
      " 'createdate': '2018-09-24T14:11:55.037Z',\n",
      " 'hs_lastmodifieddate': '2021-07-17T12:04:12.283Z',\n",
      " 'hs_object_id': '31980459',\n",
      " 'hs_product_id': '5669736',\n",
      " 'quantity': '1'}\n"
     ]
    },
    {
     "data": {
      "text/plain": [
       "100"
      ]
     },
     "execution_count": 9,
     "metadata": {},
     "output_type": "execute_result"
    }
   ],
   "source": [
    "import hubspot\n",
    "from pprint import pprint\n",
    "\n",
    "from hubspot.crm.deals import ApiException as DealsApiException\n",
    "from hubspot.crm.products import ApiException as ProductsApiException\n",
    "from hubspot.crm.quotes import ApiException as QuotesApiException\n",
    "\n",
    "from sqlalchemy import create_engine\n",
    "import os\n",
    "from dotenv import load_dotenv\n",
    "ACCESS_TOKEN = os.environ[\"ACCESS_TOKEN\"]\n",
    "DATABASE_CONNECTION_URI = os.environ[\"DB_URL\"]\n",
    "NEW_DATABASE_CONNECTION_URI = os.environ[\"NEW_DB_URL\"]\n",
    "import pandas as pd\n",
    "\n",
    "client = hubspot.Client.create(access_token=ACCESS_TOKEN)\n",
    "\n",
    "results = []\n",
    "property_results = []\n",
    "\n",
    "# try:\n",
    "#     api_response = client.crm.deals.basic_api.get_page(limit=10, archived=False)\n",
    "#     pprint(api_response)\n",
    "# except DealsApiException as e:\n",
    "#     print(\"Exception when calling basic_api->get_page: %s\\n\" % e)\n",
    "\n",
    "# try:\n",
    "#     api_response = client.crm.products.basic_api.get_page(limit=10, archived=False)\n",
    "#     pprint(api_response)\n",
    "# except ProductsApiException as e:\n",
    "#     print(\"Exception when calling basic_api->get_page: %s\\n\" % e)\n",
    "\n",
    "properties_dict = {\n",
    "    \"discount\": 1,\n",
    "    \"recurringbillingfrequency\": 1,\n",
    "    \"hs_recurring_billing_period\": 1,\n",
    "    \"hs_recurring_billing_start_date\": 1\n",
    "}\n",
    "\n",
    "try:\n",
    "    #api_response = client.crm.quotes.basic_api.get_crm_v3_objects_quotes(limit=10, archived=False) NO FUNCA\n",
    "    #api_response = client.crm.quotes.basic_api.get_page(limit=100, archived=False)\n",
    "\n",
    "    # api_response = client.crm.quotes.basic_api.get_page(\n",
    "    #     limit=100,\n",
    "    #     properties=list(properties_dict.keys()),\n",
    "    #     associations=[\"deals\", \"line_items\"],\n",
    "    #     archived=False\n",
    "    # )\n",
    "    api_response = client.crm.line_items.basic_api.get_page(limit=100, archived=False)\n",
    "\n",
    "    #api_response = client.crm.deals.basic_api.get_page(limit=100, archived=False)\n",
    "    #api_response = client.crm.associations.v4.basic_api.get_page(object_type=\"objectType\", object_id=\"objectId\", to_object_type=\"toObjectType\", limit=500)\n",
    "    # api_response = client.crm.deals.basic_api.get_page(\n",
    "    #                 limit=100,\n",
    "    #                 properties=list(properties_dict.keys()),\n",
    "    #                 associations=[\"quotes\"],\n",
    "    #                 archived=False,\n",
    "    # )\n",
    "    pprint(api_response.results[0].properties)\n",
    "except QuotesApiException as e:\n",
    "    print(\"Exception when calling basic_api->get_crm_v3_objects_quotes: %s\\n\" % e)\n",
    "\n",
    "api_response = api_response.to_dict()\n",
    "results.extend(api_response['results'])\n",
    "for result in results:\n",
    "    property_results.append(result[\"properties\"])\n",
    "df = pd.DataFrame(property_results)\n",
    "\n",
    "# create a connection to the database\n",
    "engine = create_engine(NEW_DATABASE_CONNECTION_URI)\n",
    "\n",
    "df.to_sql('hs_dev_test', con=engine, if_exists='replace', index=False)\n",
    "\n",
    "#newdf = pd.read_sql_table(\"odoo_projects\", engine)\n",
    "#newdf.to_sql('dev88', con=engine, if_exists='replace', index=False)\n",
    "\n",
    "#query = \"\"\"SELECT * FROM hubspot_deals ORDER BY create_date DESC;\"\"\"\n",
    "#last_df = pd.read_sql_query(query, engine)\n",
    "#last_df.to_sql('dev90', con=engine, if_exists='replace', index=False)"
   ]
  }
 ],
 "metadata": {
  "kernelspec": {
   "display_name": "Python 3",
   "language": "python",
   "name": "python3"
  },
  "language_info": {
   "codemirror_mode": {
    "name": "ipython",
    "version": 3
   },
   "file_extension": ".py",
   "mimetype": "text/x-python",
   "name": "python",
   "nbconvert_exporter": "python",
   "pygments_lexer": "ipython3",
   "version": "3.11.5"
  }
 },
 "nbformat": 4,
 "nbformat_minor": 2
}
