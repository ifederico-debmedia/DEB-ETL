{
 "cells": [
  {
   "cell_type": "code",
   "execution_count": 1,
   "metadata": {},
   "outputs": [
    {
     "name": "stdout",
     "output_type": "stream",
     "text": [
      "La tabla odoo_subscriptions ha sido copiada con éxito a la tabla odoo_subscriptions_copy.\n"
     ]
    }
   ],
   "source": [
    "import psycopg2\n",
    "from dotenv import load_dotenv\n",
    "import os\n",
    "\n",
    "# Carga las variables de entorno desde el archivo .env (en onrender.com es el archivo 'env.txt')\n",
    "load_dotenv()\n",
    "\n",
    "# Obtiene la URL de la base de datos desde las variables de entorno\n",
    "db_url = os.getenv(\"DB_URL\")\n",
    "\n",
    "# Nombre de la tabla que deseas copiar\n",
    "tabla_origen = \"\"\n",
    "tabla_destino = \"\"\n",
    "\n",
    "try:\n",
    "    # Conéctate a la base de datos usando la URL\n",
    "    conn = psycopg2.connect(db_url)\n",
    "\n",
    "    # Crea un cursor para la base de datos\n",
    "    cursor = conn.cursor()\n",
    "\n",
    "    # Elimina la tabla de respaldo si existe\n",
    "    cursor.execute(f\"DROP TABLE IF EXISTS {tabla_destino};\")\n",
    "\n",
    "    # Crea la tabla de respaldo y copia los datos de la tabla de origen\n",
    "    cursor.execute(f\"CREATE TABLE {tabla_destino} AS SELECT * FROM {tabla_origen};\")\n",
    "  \n",
    "    # Comitea los cambios\n",
    "    conn.commit()\n",
    "\n",
    "    # Cierra el cursor y la conexión\n",
    "    cursor.close()\n",
    "    conn.close()\n",
    "\n",
    "    print(f\"La tabla {tabla_origen} ha sido copiada con éxito a la tabla {tabla_destino}.\")\n",
    "except Exception as e:\n",
    "    print(\"Ocurrió un error:\", e)\n"
   ]
  }
 ],
 "metadata": {
  "kernelspec": {
   "display_name": "Python 3",
   "language": "python",
   "name": "python3"
  },
  "language_info": {
   "codemirror_mode": {
    "name": "ipython",
    "version": 3
   },
   "file_extension": ".py",
   "mimetype": "text/x-python",
   "name": "python",
   "nbconvert_exporter": "python",
   "pygments_lexer": "ipython3",
   "version": "3.11.5"
  }
 },
 "nbformat": 4,
 "nbformat_minor": 2
}
