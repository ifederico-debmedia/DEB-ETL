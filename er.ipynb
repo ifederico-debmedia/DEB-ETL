{
 "cells": [
  {
   "cell_type": "code",
   "execution_count": 1,
   "metadata": {},
   "outputs": [
    {
     "ename": "KeyError",
     "evalue": "'rates'",
     "output_type": "error",
     "traceback": [
      "\u001b[1;31m---------------------------------------------------------------------------\u001b[0m",
      "\u001b[1;31mKeyError\u001b[0m                                  Traceback (most recent call last)",
      "Cell \u001b[1;32mIn[1], line 32\u001b[0m\n\u001b[0;32m     30\u001b[0m \u001b[38;5;66;03m# Fetch data, process, and insert into PostgreSQL table\u001b[39;00m\n\u001b[0;32m     31\u001b[0m exchange_rates_data \u001b[38;5;241m=\u001b[39m fetch_exchange_rates(api_url)\n\u001b[1;32m---> 32\u001b[0m df \u001b[38;5;241m=\u001b[39m \u001b[43mprocess_api_response\u001b[49m\u001b[43m(\u001b[49m\u001b[43mexchange_rates_data\u001b[49m\u001b[43m)\u001b[49m\n\u001b[0;32m     34\u001b[0m \u001b[38;5;66;03m# Create a table if it doesn't exist\u001b[39;00m\n\u001b[0;32m     35\u001b[0m table_name \u001b[38;5;241m=\u001b[39m \u001b[38;5;124m'\u001b[39m\u001b[38;5;124mexchange_rates\u001b[39m\u001b[38;5;124m'\u001b[39m\n",
      "Cell \u001b[1;32mIn[1], line 23\u001b[0m, in \u001b[0;36mprocess_api_response\u001b[1;34m(data)\u001b[0m\n\u001b[0;32m     22\u001b[0m \u001b[38;5;28;01mdef\u001b[39;00m \u001b[38;5;21mprocess_api_response\u001b[39m(data):\n\u001b[1;32m---> 23\u001b[0m     df \u001b[38;5;241m=\u001b[39m pd\u001b[38;5;241m.\u001b[39mDataFrame(\u001b[43mdata\u001b[49m\u001b[43m[\u001b[49m\u001b[38;5;124;43m'\u001b[39;49m\u001b[38;5;124;43mrates\u001b[39;49m\u001b[38;5;124;43m'\u001b[39;49m\u001b[43m]\u001b[49m\u001b[38;5;241m.\u001b[39mitems(), columns\u001b[38;5;241m=\u001b[39m[\u001b[38;5;124m'\u001b[39m\u001b[38;5;124mcurrency\u001b[39m\u001b[38;5;124m'\u001b[39m, \u001b[38;5;124m'\u001b[39m\u001b[38;5;124mexchange_rate\u001b[39m\u001b[38;5;124m'\u001b[39m])\n\u001b[0;32m     24\u001b[0m     df[\u001b[38;5;124m'\u001b[39m\u001b[38;5;124mtimestamp\u001b[39m\u001b[38;5;124m'\u001b[39m] \u001b[38;5;241m=\u001b[39m datetime\u001b[38;5;241m.\u001b[39mnow()\n\u001b[0;32m     25\u001b[0m     \u001b[38;5;28;01mreturn\u001b[39;00m df\n",
      "\u001b[1;31mKeyError\u001b[0m: 'rates'"
     ]
    }
   ],
   "source": [
    "import os\n",
    "from dotenv import load_dotenv\n",
    "import pandas as pd\n",
    "from sqlalchemy import create_engine\n",
    "import requests\n",
    "from datetime import datetime\n",
    "\n",
    "# Load environment variables from .env file\n",
    "load_dotenv()\n",
    "\n",
    "# Retrieve environment variables\n",
    "db_url = os.getenv(\"DB_URL\")\n",
    "api_url = os.getenv(\"API_URL\")\n",
    "\n",
    "# Fetch data from the API\n",
    "def fetch_exchange_rates(api_url):\n",
    "    response = requests.get(api_url)\n",
    "    data = response.json()\n",
    "    return data\n",
    "\n",
    "# Process API response with Pandas\n",
    "def process_api_response(data):\n",
    "    df = pd.DataFrame(data['rates'].items(), columns=['currency', 'exchange_rate'])\n",
    "    df['timestamp'] = datetime.now()\n",
    "    return df\n",
    "\n",
    "# Connect to PostgreSQL database\n",
    "engine = create_engine(db_url)\n",
    "\n",
    "# Fetch data, process, and insert into PostgreSQL table\n",
    "exchange_rates_data = fetch_exchange_rates(api_url)\n",
    "df = process_api_response(exchange_rates_data)\n",
    "\n",
    "# Create a table if it doesn't exist\n",
    "table_name = 'exchange_rates'\n",
    "if not engine.dialect.has_table(engine, table_name):\n",
    "    # Add columns for each currency based on the API response\n",
    "    for currency in exchange_rates_data['rates']:\n",
    "        df[currency] = None\n",
    "\n",
    "    # Create the table in PostgreSQL\n",
    "    df.head(0).to_sql(table_name, engine, if_exists='replace', index=False)\n",
    "\n",
    "# Update the DataFrame with exchange rates for each currency\n",
    "for currency in df['currency']:\n",
    "    df[currency] = df['exchange_rate'] / exchange_rates_data['rates'][currency]\n",
    "\n",
    "# Drop the temporary 'exchange_rate' column\n",
    "df.drop(columns=['exchange_rate'], inplace=True)\n",
    "\n",
    "# Insert data into PostgreSQL table\n",
    "df.to_sql(table_name, engine, if_exists='append', index=False)\n"
   ]
  }
 ],
 "metadata": {
  "kernelspec": {
   "display_name": "Python 3",
   "language": "python",
   "name": "python3"
  },
  "language_info": {
   "codemirror_mode": {
    "name": "ipython",
    "version": 3
   },
   "file_extension": ".py",
   "mimetype": "text/x-python",
   "name": "python",
   "nbconvert_exporter": "python",
   "pygments_lexer": "ipython3",
   "version": "3.11.5"
  }
 },
 "nbformat": 4,
 "nbformat_minor": 2
}
